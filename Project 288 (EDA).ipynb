{
 "cells": [
  {
   "cell_type": "code",
   "execution_count": 1,
   "id": "74e23657",
   "metadata": {},
   "outputs": [],
   "source": [
    "# Import necessary libraries\n",
    "import pandas as pd\n",
    "import matplotlib.pyplot as plt\n",
    "import seaborn as sns"
   ]
  },
  {
   "cell_type": "code",
   "execution_count": 3,
   "id": "6309ef40",
   "metadata": {},
   "outputs": [],
   "source": [
    "# Load your dataset\n",
    "df = pd.read_excel(\"World_development_mesurement.xlsx\")"
   ]
  },
  {
   "cell_type": "code",
   "execution_count": 4,
   "id": "ed1b9938",
   "metadata": {},
   "outputs": [
    {
     "name": "stdout",
     "output_type": "stream",
     "text": [
      "   Birth Rate Business Tax Rate  CO2 Emissions       Country  \\\n",
      "0       0.020               NaN        87931.0       Algeria   \n",
      "1       0.050               NaN         9542.0        Angola   \n",
      "2       0.043               NaN         1617.0         Benin   \n",
      "3       0.027               NaN         4276.0      Botswana   \n",
      "4       0.046               NaN         1041.0  Burkina Faso   \n",
      "\n",
      "   Days to Start Business  Ease of Business  Energy Usage              GDP  \\\n",
      "0                     NaN               NaN       26998.0  $54,790,058,957   \n",
      "1                     NaN               NaN        7499.0   $9,129,594,819   \n",
      "2                     NaN               NaN        1983.0   $2,359,122,303   \n",
      "3                     NaN               NaN        1836.0   $5,788,311,645   \n",
      "4                     NaN               NaN           NaN   $2,610,959,139   \n",
      "\n",
      "   Health Exp % GDP Health Exp/Capita  ...  Life Expectancy Male  \\\n",
      "0             0.035               $60  ...                  67.0   \n",
      "1             0.034               $22  ...                  44.0   \n",
      "2             0.043               $15  ...                  53.0   \n",
      "3             0.047              $152  ...                  49.0   \n",
      "4             0.051               $12  ...                  49.0   \n",
      "\n",
      "   Mobile Phone Usage  Number of Records  Population 0-14  Population 15-64  \\\n",
      "0                 0.0                  1            0.342             0.619   \n",
      "1                 0.0                  1            0.476             0.499   \n",
      "2                 0.0                  1            0.454             0.517   \n",
      "3                 0.1                  1            0.383             0.587   \n",
      "4                 0.0                  1            0.468             0.505   \n",
      "\n",
      "   Population 65+  Population Total  Population Urban  Tourism Inbound  \\\n",
      "0           0.039          31719449             0.599     $102,000,000   \n",
      "1           0.025          13924930             0.324      $34,000,000   \n",
      "2           0.029           6949366             0.383      $77,000,000   \n",
      "3           0.029           1755375             0.532     $227,000,000   \n",
      "4           0.028          11607944             0.178      $23,000,000   \n",
      "\n",
      "   Tourism Outbound  \n",
      "0      $193,000,000  \n",
      "1      $146,000,000  \n",
      "2       $50,000,000  \n",
      "3      $209,000,000  \n",
      "4       $30,000,000  \n",
      "\n",
      "[5 rows x 25 columns]\n"
     ]
    }
   ],
   "source": [
    "# Display the first few rows of the dataset to get an overview\n",
    "print(df.head())"
   ]
  },
  {
   "cell_type": "code",
   "execution_count": 7,
   "id": "46df5fa3",
   "metadata": {},
   "outputs": [
    {
     "name": "stdout",
     "output_type": "stream",
     "text": [
      "      Birth Rate Business Tax Rate  CO2 Emissions                   Country  \\\n",
      "2699         NaN               NaN            NaN  Turks and Caicos Islands   \n",
      "2700       0.013             46.4%            NaN             United States   \n",
      "2701       0.015             41.9%            NaN                   Uruguay   \n",
      "2702       0.020             61.9%            NaN             Venezuela, RB   \n",
      "2703       0.011               NaN            NaN     Virgin Islands (U.S.)   \n",
      "\n",
      "      Days to Start Business  Ease of Business  Energy Usage  \\\n",
      "2699                     NaN               NaN           NaN   \n",
      "2700                     5.0               4.0     2132446.0   \n",
      "2701                     7.0              85.0           NaN   \n",
      "2702                   144.0             180.0           NaN   \n",
      "2703                     NaN               NaN           NaN   \n",
      "\n",
      "                      GDP  Health Exp % GDP Health Exp/Capita  ...  \\\n",
      "2699                  NaN               NaN               NaN  ...   \n",
      "2700  $16,244,600,000,000             0.179            $8,895  ...   \n",
      "2701      $50,004,354,667             0.089            $1,308  ...   \n",
      "2702     $381,286,223,859             0.046              $593  ...   \n",
      "2703                  NaN               NaN               NaN  ...   \n",
      "\n",
      "      Life Expectancy Male  Mobile Phone Usage  Number of Records  \\\n",
      "2699                   NaN                 NaN                  1   \n",
      "2700                  76.0                 1.0                  1   \n",
      "2701                  74.0                 1.5                  1   \n",
      "2702                  72.0                 1.0                  1   \n",
      "2703                  76.0                 NaN                  1   \n",
      "\n",
      "      Population 0-14  Population 15-64  Population 65+  Population Total  \\\n",
      "2699              NaN               NaN             NaN             32427   \n",
      "2700            0.196             0.667           0.136         313873685   \n",
      "2701            0.220             0.639           0.140           3395253   \n",
      "2702            0.288             0.652           0.060          29954782   \n",
      "2703            0.206             0.641           0.152            105275   \n",
      "\n",
      "      Population Urban   Tourism Inbound  Tourism Outbound  \n",
      "2699             0.911               NaN               NaN  \n",
      "2700             0.811  $200,092,000,000  $126,573,000,000  \n",
      "2701             0.948    $2,222,000,000    $1,028,000,000  \n",
      "2702             0.889      $904,000,000    $3,202,000,000  \n",
      "2703             0.949               NaN               NaN  \n",
      "\n",
      "[5 rows x 25 columns]\n"
     ]
    }
   ],
   "source": [
    "print(df.tail())"
   ]
  },
  {
   "cell_type": "code",
   "execution_count": 5,
   "id": "040c77ed",
   "metadata": {},
   "outputs": [
    {
     "name": "stdout",
     "output_type": "stream",
     "text": [
      "        Birth Rate  CO2 Emissions  Days to Start Business  Ease of Business  \\\n",
      "count  2585.000000   2.125000e+03             1718.000000        185.000000   \n",
      "mean      0.022715   1.423071e+05               39.999418         94.875676   \n",
      "std       0.011338   6.159288e+05               57.318588         54.791906   \n",
      "min       0.007000   7.000000e+00                1.000000          1.000000   \n",
      "25%       0.013000   1.360000e+03               13.000000         48.000000   \n",
      "50%       0.020000   8.529000e+03               26.000000         94.000000   \n",
      "75%       0.031000   5.910800e+04               45.000000        142.000000   \n",
      "max       0.053000   8.286892e+06              694.000000        189.000000   \n",
      "\n",
      "       Energy Usage  Health Exp % GDP  Hours to do Tax  Infant Mortality Rate  \\\n",
      "count  1.785000e+03       2395.000000      1416.000000            2444.000000   \n",
      "mean   7.723684e+04          0.064170       302.068503               0.032813   \n",
      "std    2.599239e+05          0.026325       273.299686               0.029968   \n",
      "min    8.000000e+00          0.008000        12.000000               0.002000   \n",
      "25%    3.737000e+03          0.046000       156.000000               0.009000   \n",
      "50%    1.433800e+04          0.061000       239.000000               0.020000   \n",
      "75%    4.185200e+04          0.079000       344.750000               0.053000   \n",
      "max    2.727728e+06          0.225000      2600.000000               0.141000   \n",
      "\n",
      "       Internet Usage  Lending Interest  Life Expectancy Female  \\\n",
      "count     2531.000000       1880.000000             2568.000000   \n",
      "mean         0.239747          0.148103               71.159268   \n",
      "std          0.260132          0.171829               10.708262   \n",
      "min          0.000000          0.005000               39.000000   \n",
      "25%          0.000000          0.080000               64.000000   \n",
      "50%          0.100000          0.120000               75.000000   \n",
      "75%          0.400000          0.173000               79.000000   \n",
      "max          1.000000          4.965000               87.000000   \n",
      "\n",
      "       Life Expectancy Male  Mobile Phone Usage  Number of Records  \\\n",
      "count           2568.000000         2537.000000             2704.0   \n",
      "mean              66.461838            0.578124                1.0   \n",
      "std                9.390217            0.474647                0.0   \n",
      "min               37.000000            0.000000                1.0   \n",
      "25%               61.000000            0.100000                1.0   \n",
      "50%               69.000000            0.500000                1.0   \n",
      "75%               73.250000            0.900000                1.0   \n",
      "max               88.000000            2.900000                1.0   \n",
      "\n",
      "       Population 0-14  Population 15-64  Population 65+  Population Total  \\\n",
      "count      2484.000000       2484.000000     2484.000000      2.704000e+03   \n",
      "mean          0.303051          0.623481        0.073465      3.145729e+07   \n",
      "std           0.106577          0.069660        0.049541      1.242894e+08   \n",
      "min           0.118000          0.474000        0.003000      1.887600e+04   \n",
      "25%           0.204750          0.559000        0.033000      8.783360e+05   \n",
      "50%           0.299500          0.642500        0.052000      5.800324e+06   \n",
      "75%           0.402000          0.676000        0.112000      2.014089e+07   \n",
      "max           0.500000          0.858000        0.244000      1.350695e+09   \n",
      "\n",
      "       Population Urban  \n",
      "count       2678.000000  \n",
      "mean           0.562953  \n",
      "std            0.245897  \n",
      "min            0.082000  \n",
      "25%            0.356000  \n",
      "50%            0.560000  \n",
      "75%            0.765000  \n",
      "max            1.000000  \n"
     ]
    }
   ],
   "source": [
    "# Summary statistics\n",
    "print(df.describe())"
   ]
  },
  {
   "cell_type": "code",
   "execution_count": 8,
   "id": "1d3e8933",
   "metadata": {},
   "outputs": [
    {
     "data": {
      "text/plain": [
       "(2704, 25)"
      ]
     },
     "execution_count": 8,
     "metadata": {},
     "output_type": "execute_result"
    }
   ],
   "source": [
    "df.shape"
   ]
  },
  {
   "cell_type": "code",
   "execution_count": 10,
   "id": "c9f47156",
   "metadata": {},
   "outputs": [
    {
     "data": {
      "text/plain": [
       "0"
      ]
     },
     "execution_count": 10,
     "metadata": {},
     "output_type": "execute_result"
    }
   ],
   "source": [
    "df.duplicated().sum()"
   ]
  },
  {
   "cell_type": "code",
   "execution_count": 6,
   "id": "693a6aa0",
   "metadata": {},
   "outputs": [
    {
     "name": "stdout",
     "output_type": "stream",
     "text": [
      "Birth Rate                 119\n",
      "Business Tax Rate         1281\n",
      "CO2 Emissions              579\n",
      "Country                      0\n",
      "Days to Start Business     986\n",
      "Ease of Business          2519\n",
      "Energy Usage               919\n",
      "GDP                        210\n",
      "Health Exp % GDP           309\n",
      "Health Exp/Capita          309\n",
      "Hours to do Tax           1288\n",
      "Infant Mortality Rate      260\n",
      "Internet Usage             173\n",
      "Lending Interest           824\n",
      "Life Expectancy Female     136\n",
      "Life Expectancy Male       136\n",
      "Mobile Phone Usage         167\n",
      "Number of Records            0\n",
      "Population 0-14            220\n",
      "Population 15-64           220\n",
      "Population 65+             220\n",
      "Population Total             0\n",
      "Population Urban            26\n",
      "Tourism Inbound            368\n",
      "Tourism Outbound           471\n",
      "dtype: int64\n"
     ]
    }
   ],
   "source": [
    "# Check for missing values\n",
    "print(df.isnull().sum())"
   ]
  },
  {
   "cell_type": "code",
   "execution_count": 11,
   "id": "acac8585",
   "metadata": {},
   "outputs": [
    {
     "data": {
      "text/plain": [
       "11740"
      ]
     },
     "execution_count": 11,
     "metadata": {},
     "output_type": "execute_result"
    }
   ],
   "source": [
    "df.isnull().sum().sum()"
   ]
  },
  {
   "cell_type": "markdown",
   "id": "74e6ba9c",
   "metadata": {},
   "source": [
    "1.) There are 11740 overall null values in our Dataset.\n",
    "\n",
    "2.) There are No Duplicate values in our Dataset.\n",
    "\n",
    "3.) Columns - Country ; Number of Records and Population Total are the only columns with 0 null values."
   ]
  },
  {
   "cell_type": "markdown",
   "id": "50b4a88e",
   "metadata": {},
   "source": [
    "When we have such a large number of missing values present in our data, we have 2 options.\n",
    "1) Deletion : Deletion of rows (if you have large volume of data)\n",
    "\n",
    "          Deletion of columns (if > 45% of data is null)\n",
    "2) Imputation : for numeric column -- use mean/median/mode\n",
    "\n",
    "            for categorical columns -- use mode or ration"
   ]
  },
  {
   "cell_type": "code",
   "execution_count": 13,
   "id": "1a202435",
   "metadata": {},
   "outputs": [],
   "source": [
    "# Remove rows with any missing values\n",
    "df.dropna(inplace=True)"
   ]
  },
  {
   "cell_type": "code",
   "execution_count": 15,
   "id": "b687af33",
   "metadata": {},
   "outputs": [],
   "source": [
    "# Remove columns with any missing values\n",
    "df.dropna(axis=1, inplace=True)"
   ]
  },
  {
   "cell_type": "code",
   "execution_count": null,
   "id": "c2ee1656",
   "metadata": {},
   "outputs": [],
   "source": []
  }
 ],
 "metadata": {
  "kernelspec": {
   "display_name": "Python 3 (ipykernel)",
   "language": "python",
   "name": "python3"
  },
  "language_info": {
   "codemirror_mode": {
    "name": "ipython",
    "version": 3
   },
   "file_extension": ".py",
   "mimetype": "text/x-python",
   "name": "python",
   "nbconvert_exporter": "python",
   "pygments_lexer": "ipython3",
   "version": "3.9.13"
  }
 },
 "nbformat": 4,
 "nbformat_minor": 5
}
